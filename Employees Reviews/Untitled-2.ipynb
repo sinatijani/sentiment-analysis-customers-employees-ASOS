{
 "cells": [
  {
   "cell_type": "code",
   "execution_count": 1,
   "metadata": {},
   "outputs": [
    {
     "name": "stdout",
     "output_type": "stream",
     "text": [
      "ASOS Review - Employees (Indeed).xlsx\n",
      "ASOS Reviews - Employees (Glassdoor).xlsx\n",
      "Untitled-2.ipynb\n"
     ]
    }
   ],
   "source": [
    "ls"
   ]
  },
  {
   "cell_type": "code",
   "execution_count": 3,
   "metadata": {},
   "outputs": [],
   "source": [
    "import pandas as pd\n",
    "import numpy as np\n",
    "import matplotlib.pyplot as plt\n",
    "import seaborn as sns"
   ]
  },
  {
   "cell_type": "code",
   "execution_count": 8,
   "metadata": {},
   "outputs": [
    {
     "data": {
      "text/html": [
       "<div>\n",
       "<style scoped>\n",
       "    .dataframe tbody tr th:only-of-type {\n",
       "        vertical-align: middle;\n",
       "    }\n",
       "\n",
       "    .dataframe tbody tr th {\n",
       "        vertical-align: top;\n",
       "    }\n",
       "\n",
       "    .dataframe thead th {\n",
       "        text-align: right;\n",
       "    }\n",
       "</style>\n",
       "<table border=\"1\" class=\"dataframe\">\n",
       "  <thead>\n",
       "    <tr style=\"text-align: right;\">\n",
       "      <th></th>\n",
       "      <th>Title</th>\n",
       "      <th>Title_URL</th>\n",
       "      <th>css1w5cigz</th>\n",
       "      <th>cssohrj1l</th>\n",
       "      <th>cssrt1o3i_URL</th>\n",
       "      <th>cssrt1o3i</th>\n",
       "      <th>cssrt1o3i_URL1</th>\n",
       "      <th>cssrt1o3i2</th>\n",
       "      <th>csshxk5yu</th>\n",
       "      <th>css1r8yhr</th>\n",
       "      <th>cssj9sk9h</th>\n",
       "      <th>css1ovthiu</th>\n",
       "    </tr>\n",
       "  </thead>\n",
       "  <tbody>\n",
       "    <tr>\n",
       "      <th>0</th>\n",
       "      <td>Productive and fun loving</td>\n",
       "      <td>https://uk.indeed.com/cmp/Asos-9/reviews/produ...</td>\n",
       "      <td>4.0</td>\n",
       "      <td>Software Developer (Current Employee) - Birmin...</td>\n",
       "      <td>https://uk.indeed.com/cmp/Asos-9/reviews?fjobt...</td>\n",
       "      <td>Software Developer</td>\n",
       "      <td>https://uk.indeed.com/cmp/Asos-9/reviews?fcoun...</td>\n",
       "      <td>Birmingham, ENG</td>\n",
       "      <td>A great place to work. Very good career growth...</td>\n",
       "      <td>Was this review helpful?</td>\n",
       "      <td>Yes</td>\n",
       "      <td>No</td>\n",
       "    </tr>\n",
       "    <tr>\n",
       "      <th>1</th>\n",
       "      <td>ASOS really cares about their employees. It wa...</td>\n",
       "      <td>https://uk.indeed.com/cmp/Asos-9/reviews/asos-...</td>\n",
       "      <td>5.0</td>\n",
       "      <td>Trademark Database and billing assistant (Form...</td>\n",
       "      <td>https://uk.indeed.com/cmp/Asos-9/reviews?fjobt...</td>\n",
       "      <td>Trademark Database and billing assistant</td>\n",
       "      <td>https://uk.indeed.com/cmp/Asos-9/reviews?fcoun...</td>\n",
       "      <td>London</td>\n",
       "      <td>What is the best part of working at the compan...</td>\n",
       "      <td>Was this review helpful?</td>\n",
       "      <td>Yes</td>\n",
       "      <td>No</td>\n",
       "    </tr>\n",
       "    <tr>\n",
       "      <th>2</th>\n",
       "      <td>Good benefits but overworked</td>\n",
       "      <td>https://uk.indeed.com/cmp/Asos-9/reviews/good-...</td>\n",
       "      <td>3.0</td>\n",
       "      <td>Studio Manager (Former Employee) - London, Gre...</td>\n",
       "      <td>https://uk.indeed.com/cmp/Asos-9/reviews?fjobt...</td>\n",
       "      <td>Studio Manager</td>\n",
       "      <td>https://uk.indeed.com/cmp/Asos-9/reviews?fcoun...</td>\n",
       "      <td>London, Greater London</td>\n",
       "      <td>Fast paced, unrealistic deadlines, with moving...</td>\n",
       "      <td>Was this review helpful?</td>\n",
       "      <td>Yes</td>\n",
       "      <td>No</td>\n",
       "    </tr>\n",
       "    <tr>\n",
       "      <th>3</th>\n",
       "      <td>Depressing</td>\n",
       "      <td>https://uk.indeed.com/cmp/Asos-9/reviews/depre...</td>\n",
       "      <td>3.0</td>\n",
       "      <td>Picker/Packer (Current Employee) - Barnsley, S...</td>\n",
       "      <td>https://uk.indeed.com/cmp/Asos-9/reviews?fjobt...</td>\n",
       "      <td>Picker/Packer</td>\n",
       "      <td>https://uk.indeed.com/cmp/Asos-9/reviews?fcoun...</td>\n",
       "      <td>Barnsley, South Yorkshire</td>\n",
       "      <td>Very depressing work place, easy job with most...</td>\n",
       "      <td>Was this review helpful?</td>\n",
       "      <td>Yes</td>\n",
       "      <td>No</td>\n",
       "    </tr>\n",
       "    <tr>\n",
       "      <th>4</th>\n",
       "      <td>Not very friendly work environment</td>\n",
       "      <td>https://uk.indeed.com/cmp/Asos-9/reviews/not-v...</td>\n",
       "      <td>2.0</td>\n",
       "      <td>Warehouse Operative (Former Employee) - Barnsl...</td>\n",
       "      <td>https://uk.indeed.com/cmp/Asos-9/reviews?fjobt...</td>\n",
       "      <td>Warehouse Operative</td>\n",
       "      <td>https://uk.indeed.com/cmp/Asos-9/reviews?fcoun...</td>\n",
       "      <td>Barnsley, South Yorkshire</td>\n",
       "      <td>Unrealistic targets Not valued,many issues wit...</td>\n",
       "      <td>Was this review helpful?</td>\n",
       "      <td>Yes</td>\n",
       "      <td>No</td>\n",
       "    </tr>\n",
       "  </tbody>\n",
       "</table>\n",
       "</div>"
      ],
      "text/plain": [
       "                                               Title  \\\n",
       "0                          Productive and fun loving   \n",
       "1  ASOS really cares about their employees. It wa...   \n",
       "2                       Good benefits but overworked   \n",
       "3                                         Depressing   \n",
       "4                 Not very friendly work environment   \n",
       "\n",
       "                                           Title_URL  css1w5cigz  \\\n",
       "0  https://uk.indeed.com/cmp/Asos-9/reviews/produ...         4.0   \n",
       "1  https://uk.indeed.com/cmp/Asos-9/reviews/asos-...         5.0   \n",
       "2  https://uk.indeed.com/cmp/Asos-9/reviews/good-...         3.0   \n",
       "3  https://uk.indeed.com/cmp/Asos-9/reviews/depre...         3.0   \n",
       "4  https://uk.indeed.com/cmp/Asos-9/reviews/not-v...         2.0   \n",
       "\n",
       "                                           cssohrj1l  \\\n",
       "0  Software Developer (Current Employee) - Birmin...   \n",
       "1  Trademark Database and billing assistant (Form...   \n",
       "2  Studio Manager (Former Employee) - London, Gre...   \n",
       "3  Picker/Packer (Current Employee) - Barnsley, S...   \n",
       "4  Warehouse Operative (Former Employee) - Barnsl...   \n",
       "\n",
       "                                       cssrt1o3i_URL  \\\n",
       "0  https://uk.indeed.com/cmp/Asos-9/reviews?fjobt...   \n",
       "1  https://uk.indeed.com/cmp/Asos-9/reviews?fjobt...   \n",
       "2  https://uk.indeed.com/cmp/Asos-9/reviews?fjobt...   \n",
       "3  https://uk.indeed.com/cmp/Asos-9/reviews?fjobt...   \n",
       "4  https://uk.indeed.com/cmp/Asos-9/reviews?fjobt...   \n",
       "\n",
       "                                  cssrt1o3i  \\\n",
       "0                        Software Developer   \n",
       "1  Trademark Database and billing assistant   \n",
       "2                            Studio Manager   \n",
       "3                             Picker/Packer   \n",
       "4                       Warehouse Operative   \n",
       "\n",
       "                                      cssrt1o3i_URL1  \\\n",
       "0  https://uk.indeed.com/cmp/Asos-9/reviews?fcoun...   \n",
       "1  https://uk.indeed.com/cmp/Asos-9/reviews?fcoun...   \n",
       "2  https://uk.indeed.com/cmp/Asos-9/reviews?fcoun...   \n",
       "3  https://uk.indeed.com/cmp/Asos-9/reviews?fcoun...   \n",
       "4  https://uk.indeed.com/cmp/Asos-9/reviews?fcoun...   \n",
       "\n",
       "                  cssrt1o3i2  \\\n",
       "0            Birmingham, ENG   \n",
       "1                     London   \n",
       "2     London, Greater London   \n",
       "3  Barnsley, South Yorkshire   \n",
       "4  Barnsley, South Yorkshire   \n",
       "\n",
       "                                           csshxk5yu  \\\n",
       "0  A great place to work. Very good career growth...   \n",
       "1  What is the best part of working at the compan...   \n",
       "2  Fast paced, unrealistic deadlines, with moving...   \n",
       "3  Very depressing work place, easy job with most...   \n",
       "4  Unrealistic targets Not valued,many issues wit...   \n",
       "\n",
       "                  css1r8yhr cssj9sk9h css1ovthiu  \n",
       "0  Was this review helpful?       Yes         No  \n",
       "1  Was this review helpful?       Yes         No  \n",
       "2  Was this review helpful?       Yes         No  \n",
       "3  Was this review helpful?       Yes         No  \n",
       "4  Was this review helpful?       Yes         No  "
      ]
     },
     "execution_count": 8,
     "metadata": {},
     "output_type": "execute_result"
    }
   ],
   "source": [
    "asos_indeed = pd.read_excel(\"ASOS Review - Employees (Indeed).xlsx\")\n",
    "asos_indeed.head(5)"
   ]
  },
  {
   "cell_type": "code",
   "execution_count": 10,
   "metadata": {},
   "outputs": [
    {
     "data": {
      "text/plain": [
       "False"
      ]
     },
     "execution_count": 10,
     "metadata": {},
     "output_type": "execute_result"
    }
   ],
   "source": [
    "asos_indeed.duplicated().any()"
   ]
  },
  {
   "cell_type": "code",
   "execution_count": null,
   "metadata": {},
   "outputs": [],
   "source": []
  }
 ],
 "metadata": {
  "kernelspec": {
   "display_name": "Python 3",
   "language": "python",
   "name": "python3"
  },
  "language_info": {
   "codemirror_mode": {
    "name": "ipython",
    "version": 3
   },
   "file_extension": ".py",
   "mimetype": "text/x-python",
   "name": "python",
   "nbconvert_exporter": "python",
   "pygments_lexer": "ipython3",
   "version": "3.12.0"
  }
 },
 "nbformat": 4,
 "nbformat_minor": 2
}
